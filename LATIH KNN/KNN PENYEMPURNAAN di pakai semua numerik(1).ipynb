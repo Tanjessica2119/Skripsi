{
 "cells": [
  {
   "cell_type": "code",
   "execution_count": null,
   "metadata": {
    "colab": {
     "base_uri": "https://localhost:8080/"
    },
    "executionInfo": {
     "elapsed": 347,
     "status": "ok",
     "timestamp": 1737938412331,
     "user": {
      "displayName": "Gaming Bodoh",
      "userId": "05379886731107203134"
     },
     "user_tz": -420
    },
    "id": "kuboPnhbnX1q",
    "outputId": "9aeae9b5-4245-4eb4-e67b-b43651d1f882"
   },
   "outputs": [
    {
     "name": "stdout",
     "output_type": "stream",
     "text": [
      "Dataset Awal:\n",
      "  hero_name         hero_role        hero_specially  \\\n",
      "0   Alucard  Fighter,Assassin  Charge,Crowd Control   \n",
      "1     Bruno          Marksman                  Reap   \n",
      "2     Fanny          Assassin           Charge,Reap   \n",
      "3  Lancelot          Assassin   Charge,Burst Damage   \n",
      "4    Claude          Marksman            Reap,Burst   \n",
      "\n",
      "   hero_overview.hero_durability  hero_overview.hero_offence  \\\n",
      "0                             45                          87   \n",
      "1                             42                          90   \n",
      "2                             60                          85   \n",
      "3                             50                          96   \n",
      "4                             31                          88   \n",
      "\n",
      "   hero_overview.hero_ability  hero_overview.hero_difficulty  \n",
      "0                          50                             45  \n",
      "1                          68                             46  \n",
      "2                          50                            100  \n",
      "3                          40                             68  \n",
      "4                          46                             87  \n"
     ]
    }
   ],
   "source": [
    "# Import library\n",
    "import pandas as pd\n",
    "from sklearn.neighbors import NearestNeighbors\n",
    "from sklearn.preprocessing import LabelEncoder #OneHotEncoder #StandardScaler\n",
    "from sklearn.metrics.pairwise import cosine_similarity\n",
    "from sklearn.metrics import average_precision_score\n",
    "from sklearn.metrics import ndcg_score\n",
    "from sklearn.metrics import recall_score\n",
    "from sklearn.metrics import confusion_matrix\n",
    "import numpy as np\n",
    "import joblib\n",
    "from sklearn.decomposition import PCA\n",
    "import matplotlib.pyplot as plt\n",
    "\n",
    "# Load dataset\n",
    "file_path = 'C:/Users/User/OneDrive/Documents/KULIAH/SEMESTER 7/SKRIPSI/WEB FORUM DISKUSI GAME/AI/DATA SET/WEB REKOMENDASI HERO 1/DI NUMERIK DI JKT/STREAMLIT/WEB REKOMENDASI HERO/hero_data.csv'\n",
    "df = pd.read_csv(file_path)\n",
    "\n",
    "# Tampilkan data awal\n",
    "print(\"Dataset Awal:\")\n",
    "print(df.head())"
   ]
  },
  {
   "cell_type": "code",
   "execution_count": 11,
   "metadata": {},
   "outputs": [
    {
     "name": "stdout",
     "output_type": "stream",
     "text": [
      "Jumlah data setelah data cleaning: 67\n"
     ]
    }
   ],
   "source": [
    "# --- Data Cleaning ---\n",
    "# Hapus baris yang memiliki nilai 0 pada atribut numerik\n",
    "df = df[\n",
    "    (df['hero_overview.hero_durability'] != 0) &\n",
    "    (df['hero_overview.hero_offence'] != 0) &\n",
    "    (df['hero_overview.hero_ability'] != 0) &\n",
    "    (df['hero_overview.hero_difficulty'] != 0)\n",
    "]\n",
    "\n",
    "# Tampilkan jumlah data setelah dibersihkan\n",
    "print(\"Jumlah data setelah data cleaning:\", df.shape[0])\n"
   ]
  },
  {
   "cell_type": "code",
   "execution_count": 12,
   "metadata": {
    "colab": {
     "base_uri": "https://localhost:8080/"
    },
    "executionInfo": {
     "elapsed": 341,
     "status": "ok",
     "timestamp": 1737938420008,
     "user": {
      "displayName": "Gaming Bodoh",
      "userId": "05379886731107203134"
     },
     "user_tz": -420
    },
    "id": "CpcaCQsmnkdC",
    "outputId": "f6e86fe2-f966-4a69-c0ad-aac5f3e49d4b"
   },
   "outputs": [
    {
     "name": "stdout",
     "output_type": "stream",
     "text": [
      "\n",
      "Mapping hero_name (Asli -> Encoded):\n",
      "Akai: 0\n",
      "Aldous: 1\n",
      "Alice: 2\n",
      "Alpha: 3\n",
      "Alucard: 4\n",
      "Angela: 5\n",
      "Argus: 6\n",
      "Aurora: 7\n",
      "Balmond: 8\n",
      "Bane: 9\n",
      "Belerick: 10\n",
      "Bruno: 11\n",
      "Chang`e: 12\n",
      "Chou: 13\n",
      "Claude: 14\n",
      "Clint: 15\n",
      "Cyclops: 16\n",
      "Diggie: 17\n",
      "Estes: 18\n",
      "Eudora: 19\n",
      "Fanny: 20\n",
      "Franco: 21\n",
      "Freya: 22\n",
      "Gatot kaca: 23\n",
      "Gord: 24\n",
      "Grock: 25\n",
      "Gusion: 26\n",
      "Hanabi: 27\n",
      "Harley: 28\n",
      "Hayabusa: 29\n",
      "Helcurt: 30\n",
      "Hilda: 31\n",
      "Hylos: 32\n",
      "Irithel: 33\n",
      "Jawhead: 34\n",
      "Johnson: 35\n",
      "Kagura: 36\n",
      "Kaja: 37\n",
      "Karina: 38\n",
      "Karrie: 39\n",
      "Lancelot: 40\n",
      "Lapu-Lapu: 41\n",
      "Layla: 42\n",
      "Lesley: 43\n",
      "Lolita: 44\n",
      "Lunox: 45\n",
      "Martis: 46\n",
      "Minotaur: 47\n",
      "Minsitthar: 48\n",
      "Miya: 49\n",
      "Moskov: 50\n",
      "Natalia: 51\n",
      "Odette: 52\n",
      "Pharsa: 53\n",
      "Rafaela: 54\n",
      "Roger: 55\n",
      "Ruby: 56\n",
      "Saber: 57\n",
      "Sun: 58\n",
      "Thamuz: 59\n",
      "Tigreal: 60\n",
      "Uranus: 61\n",
      "Valir: 62\n",
      "Vexana: 63\n",
      "Yi Sun-shin: 64\n",
      "Zhask: 65\n",
      "Zilong: 66\n",
      "\n",
      "Mapping hero_role (Asli -> Encoded):\n",
      "Assassin: 0\n",
      "Fighter: 1\n",
      "Fighter,Assassin: 2\n",
      "Fighter,Support: 3\n",
      "Mage: 4\n",
      "Mage,Assassin: 5\n",
      "Mage,Tank: 6\n",
      "Marksman: 7\n",
      "Marksman,Assassin: 8\n",
      "Marksman,Fighter: 9\n",
      "Support: 10\n",
      "Tank: 11\n",
      "Tank,Fighter: 12\n",
      "Tank,Support: 13\n",
      "\n",
      "Mapping hero_specially (Asli -> Encoded):\n",
      "Charge,Burst: 0\n",
      "Charge,Burst Damage: 1\n",
      "Charge,Crowd Control: 2\n",
      "Charge,Damage: 3\n",
      "Charge,Reap: 4\n",
      "Crowd Control: 5\n",
      "Crowd Control,Burst Damage: 6\n",
      "Crowd Control,Cost: 7\n",
      "Crowd Control,Poke: 8\n",
      "Damage,Cost: 9\n",
      "Damage,Poke: 10\n",
      "Damage,Reap: 11\n",
      "Initiator: 12\n",
      "Initiator,Charge: 13\n",
      "Initiator,Crowd Control: 14\n",
      "Poke,Burst: 15\n",
      "Poke,Burst Damage: 16\n",
      "Poke,Reap: 17\n",
      "Push: 18\n",
      "Push,Burst: 19\n",
      "Push,Burst Damage: 20\n",
      "Push,Charge: 21\n",
      "Push,Crowd Control: 22\n",
      "Push,Poke: 23\n",
      "Reap: 24\n",
      "Reap,Burst: 25\n",
      "Reap,Burst Damage: 26\n",
      "Regen: 27\n",
      "Regen,Burst Damage: 28\n",
      "Regen,Charge: 29\n",
      "Regen,Cost: 30\n",
      "Regen,Damage: 31\n",
      "Regen,Poke: 32\n"
     ]
    },
    {
     "ename": "OSError",
     "evalue": "[Errno 9] Bad file descriptor",
     "output_type": "error",
     "traceback": [
      "\u001b[1;31m---------------------------------------------------------------------------\u001b[0m",
      "\u001b[1;31mOSError\u001b[0m                                   Traceback (most recent call last)",
      "Cell \u001b[1;32mIn[12], line 15\u001b[0m\n\u001b[0;32m     12\u001b[0m     \u001b[38;5;28;01mfor\u001b[39;00m i, value \u001b[38;5;129;01min\u001b[39;00m \u001b[38;5;28menumerate\u001b[39m(le\u001b[38;5;241m.\u001b[39mclasses_):\n\u001b[0;32m     13\u001b[0m         \u001b[38;5;28mprint\u001b[39m(\u001b[38;5;124mf\u001b[39m\u001b[38;5;124m\"\u001b[39m\u001b[38;5;132;01m{\u001b[39;00mvalue\u001b[38;5;132;01m}\u001b[39;00m\u001b[38;5;124m: \u001b[39m\u001b[38;5;132;01m{\u001b[39;00mi\u001b[38;5;132;01m}\u001b[39;00m\u001b[38;5;124m\"\u001b[39m)\n\u001b[1;32m---> 15\u001b[0m \u001b[43mjoblib\u001b[49m\u001b[38;5;241;43m.\u001b[39;49m\u001b[43mdump\u001b[49m\u001b[43m(\u001b[49m\u001b[43mlabel_encoders\u001b[49m\u001b[43m,\u001b[49m\u001b[43m \u001b[49m\u001b[38;5;124;43m'\u001b[39;49m\u001b[38;5;124;43mlabel_encoders.pkl\u001b[39;49m\u001b[38;5;124;43m'\u001b[39;49m\u001b[43m)\u001b[49m\n",
      "File \u001b[1;32mc:\\Users\\User\\AppData\\Local\\Programs\\Python\\Python312\\Lib\\site-packages\\joblib\\numpy_pickle.py:552\u001b[0m, in \u001b[0;36mdump\u001b[1;34m(value, filename, compress, protocol, cache_size)\u001b[0m\n\u001b[0;32m    550\u001b[0m         NumpyPickler(f, protocol\u001b[38;5;241m=\u001b[39mprotocol)\u001b[38;5;241m.\u001b[39mdump(value)\n\u001b[0;32m    551\u001b[0m \u001b[38;5;28;01melif\u001b[39;00m is_filename:\n\u001b[1;32m--> 552\u001b[0m     \u001b[38;5;28;01mwith\u001b[39;00m \u001b[38;5;28;43mopen\u001b[39;49m\u001b[43m(\u001b[49m\u001b[43mfilename\u001b[49m\u001b[43m,\u001b[49m\u001b[43m \u001b[49m\u001b[38;5;124;43m'\u001b[39;49m\u001b[38;5;124;43mwb\u001b[39;49m\u001b[38;5;124;43m'\u001b[39;49m\u001b[43m)\u001b[49m \u001b[38;5;28;01mas\u001b[39;00m f:\n\u001b[0;32m    553\u001b[0m         NumpyPickler(f, protocol\u001b[38;5;241m=\u001b[39mprotocol)\u001b[38;5;241m.\u001b[39mdump(value)\n\u001b[0;32m    554\u001b[0m \u001b[38;5;28;01melse\u001b[39;00m:\n",
      "\u001b[1;31mOSError\u001b[0m: [Errno 9] Bad file descriptor"
     ]
    }
   ],
   "source": [
    "# Encode kolom kategorikal\n",
    "categorical_columns = ['hero_name','hero_role', 'hero_specially']\n",
    "label_encoders = {}\n",
    "\n",
    "for col in categorical_columns:\n",
    "    le = LabelEncoder()\n",
    "    df[col] = le.fit_transform(df[col])\n",
    "    label_encoders[col] = le\n",
    "\n",
    "    # Tampilkan mapping asli ke encoded\n",
    "    print(f\"\\nMapping {col} (Asli -> Encoded):\")\n",
    "    for i, value in enumerate(le.classes_):\n",
    "        print(f\"{value}: {i}\")\n",
    "\n",
    "joblib.dump(label_encoders, 'label_encoders.pkl')"
   ]
  },
  {
   "cell_type": "code",
   "execution_count": 13,
   "metadata": {
    "colab": {
     "base_uri": "https://localhost:8080/"
    },
    "executionInfo": {
     "elapsed": 338,
     "status": "ok",
     "timestamp": 1737938524616,
     "user": {
      "displayName": "Gaming Bodoh",
      "userId": "05379886731107203134"
     },
     "user_tz": -420
    },
    "id": "1DzNWmminm12",
    "outputId": "181650ca-83e9-4fc1-dc82-ca39a96e0341"
   },
   "outputs": [
    {
     "name": "stdout",
     "output_type": "stream",
     "text": [
      "\n",
      "Model KNN berhasil dilatih.\n"
     ]
    },
    {
     "ename": "OSError",
     "evalue": "[Errno 9] Bad file descriptor",
     "output_type": "error",
     "traceback": [
      "\u001b[1;31m---------------------------------------------------------------------------\u001b[0m",
      "\u001b[1;31mOSError\u001b[0m                                   Traceback (most recent call last)",
      "File \u001b[1;32mc:\\Users\\User\\AppData\\Local\\Programs\\Python\\Python312\\Lib\\site-packages\\joblib\\numpy_pickle.py:553\u001b[0m, in \u001b[0;36mdump\u001b[1;34m(value, filename, compress, protocol, cache_size)\u001b[0m\n\u001b[0;32m    552\u001b[0m     \u001b[38;5;28;01mwith\u001b[39;00m \u001b[38;5;28mopen\u001b[39m(filename, \u001b[38;5;124m'\u001b[39m\u001b[38;5;124mwb\u001b[39m\u001b[38;5;124m'\u001b[39m) \u001b[38;5;28;01mas\u001b[39;00m f:\n\u001b[1;32m--> 553\u001b[0m         \u001b[43mNumpyPickler\u001b[49m\u001b[43m(\u001b[49m\u001b[43mf\u001b[49m\u001b[43m,\u001b[49m\u001b[43m \u001b[49m\u001b[43mprotocol\u001b[49m\u001b[38;5;241;43m=\u001b[39;49m\u001b[43mprotocol\u001b[49m\u001b[43m)\u001b[49m\u001b[38;5;241;43m.\u001b[39;49m\u001b[43mdump\u001b[49m\u001b[43m(\u001b[49m\u001b[43mvalue\u001b[49m\u001b[43m)\u001b[49m\n\u001b[0;32m    554\u001b[0m \u001b[38;5;28;01melse\u001b[39;00m:\n",
      "File \u001b[1;32mc:\\Users\\User\\AppData\\Local\\Programs\\Python\\Python312\\Lib\\pickle.py:484\u001b[0m, in \u001b[0;36m_Pickler.dump\u001b[1;34m(self, obj)\u001b[0m\n\u001b[0;32m    483\u001b[0m     \u001b[38;5;28mself\u001b[39m\u001b[38;5;241m.\u001b[39mframer\u001b[38;5;241m.\u001b[39mstart_framing()\n\u001b[1;32m--> 484\u001b[0m \u001b[38;5;28;43mself\u001b[39;49m\u001b[38;5;241;43m.\u001b[39;49m\u001b[43msave\u001b[49m\u001b[43m(\u001b[49m\u001b[43mobj\u001b[49m\u001b[43m)\u001b[49m\n\u001b[0;32m    485\u001b[0m \u001b[38;5;28mself\u001b[39m\u001b[38;5;241m.\u001b[39mwrite(STOP)\n",
      "File \u001b[1;32mc:\\Users\\User\\AppData\\Local\\Programs\\Python\\Python312\\Lib\\site-packages\\joblib\\numpy_pickle.py:355\u001b[0m, in \u001b[0;36mNumpyPickler.save\u001b[1;34m(self, obj)\u001b[0m\n\u001b[0;32m    353\u001b[0m     \u001b[38;5;28;01mreturn\u001b[39;00m\n\u001b[1;32m--> 355\u001b[0m \u001b[38;5;28;01mreturn\u001b[39;00m \u001b[43mPickler\u001b[49m\u001b[38;5;241;43m.\u001b[39;49m\u001b[43msave\u001b[49m\u001b[43m(\u001b[49m\u001b[38;5;28;43mself\u001b[39;49m\u001b[43m,\u001b[49m\u001b[43m \u001b[49m\u001b[43mobj\u001b[49m\u001b[43m)\u001b[49m\n",
      "File \u001b[1;32mc:\\Users\\User\\AppData\\Local\\Programs\\Python\\Python312\\Lib\\pickle.py:600\u001b[0m, in \u001b[0;36m_Pickler.save\u001b[1;34m(self, obj, save_persistent_id)\u001b[0m\n\u001b[0;32m    599\u001b[0m \u001b[38;5;66;03m# Save the reduce() output and finally memoize the object\u001b[39;00m\n\u001b[1;32m--> 600\u001b[0m \u001b[38;5;28;43mself\u001b[39;49m\u001b[38;5;241;43m.\u001b[39;49m\u001b[43msave_reduce\u001b[49m\u001b[43m(\u001b[49m\u001b[43mobj\u001b[49m\u001b[38;5;241;43m=\u001b[39;49m\u001b[43mobj\u001b[49m\u001b[43m,\u001b[49m\u001b[43m \u001b[49m\u001b[38;5;241;43m*\u001b[39;49m\u001b[43mrv\u001b[49m\u001b[43m)\u001b[49m\n",
      "File \u001b[1;32mc:\\Users\\User\\AppData\\Local\\Programs\\Python\\Python312\\Lib\\pickle.py:714\u001b[0m, in \u001b[0;36m_Pickler.save_reduce\u001b[1;34m(self, func, args, state, listitems, dictitems, state_setter, obj)\u001b[0m\n\u001b[0;32m    713\u001b[0m \u001b[38;5;28;01mif\u001b[39;00m state_setter \u001b[38;5;129;01mis\u001b[39;00m \u001b[38;5;28;01mNone\u001b[39;00m:\n\u001b[1;32m--> 714\u001b[0m     \u001b[43msave\u001b[49m\u001b[43m(\u001b[49m\u001b[43mstate\u001b[49m\u001b[43m)\u001b[49m\n\u001b[0;32m    715\u001b[0m     write(BUILD)\n",
      "File \u001b[1;32mc:\\Users\\User\\AppData\\Local\\Programs\\Python\\Python312\\Lib\\site-packages\\joblib\\numpy_pickle.py:355\u001b[0m, in \u001b[0;36mNumpyPickler.save\u001b[1;34m(self, obj)\u001b[0m\n\u001b[0;32m    353\u001b[0m     \u001b[38;5;28;01mreturn\u001b[39;00m\n\u001b[1;32m--> 355\u001b[0m \u001b[38;5;28;01mreturn\u001b[39;00m \u001b[43mPickler\u001b[49m\u001b[38;5;241;43m.\u001b[39;49m\u001b[43msave\u001b[49m\u001b[43m(\u001b[49m\u001b[38;5;28;43mself\u001b[39;49m\u001b[43m,\u001b[49m\u001b[43m \u001b[49m\u001b[43mobj\u001b[49m\u001b[43m)\u001b[49m\n",
      "File \u001b[1;32mc:\\Users\\User\\AppData\\Local\\Programs\\Python\\Python312\\Lib\\pickle.py:557\u001b[0m, in \u001b[0;36m_Pickler.save\u001b[1;34m(self, obj, save_persistent_id)\u001b[0m\n\u001b[0;32m    556\u001b[0m \u001b[38;5;28;01mif\u001b[39;00m f \u001b[38;5;129;01mis\u001b[39;00m \u001b[38;5;129;01mnot\u001b[39;00m \u001b[38;5;28;01mNone\u001b[39;00m:\n\u001b[1;32m--> 557\u001b[0m     \u001b[43mf\u001b[49m\u001b[43m(\u001b[49m\u001b[38;5;28;43mself\u001b[39;49m\u001b[43m,\u001b[49m\u001b[43m \u001b[49m\u001b[43mobj\u001b[49m\u001b[43m)\u001b[49m  \u001b[38;5;66;03m# Call unbound method with explicit self\u001b[39;00m\n\u001b[0;32m    558\u001b[0m     \u001b[38;5;28;01mreturn\u001b[39;00m\n",
      "File \u001b[1;32mc:\\Users\\User\\AppData\\Local\\Programs\\Python\\Python312\\Lib\\pickle.py:989\u001b[0m, in \u001b[0;36m_Pickler.save_dict\u001b[1;34m(self, obj)\u001b[0m\n\u001b[0;32m    988\u001b[0m \u001b[38;5;28mself\u001b[39m\u001b[38;5;241m.\u001b[39mmemoize(obj)\n\u001b[1;32m--> 989\u001b[0m \u001b[38;5;28;43mself\u001b[39;49m\u001b[38;5;241;43m.\u001b[39;49m\u001b[43m_batch_setitems\u001b[49m\u001b[43m(\u001b[49m\u001b[43mobj\u001b[49m\u001b[38;5;241;43m.\u001b[39;49m\u001b[43mitems\u001b[49m\u001b[43m(\u001b[49m\u001b[43m)\u001b[49m\u001b[43m)\u001b[49m\n",
      "File \u001b[1;32mc:\\Users\\User\\AppData\\Local\\Programs\\Python\\Python312\\Lib\\pickle.py:1013\u001b[0m, in \u001b[0;36m_Pickler._batch_setitems\u001b[1;34m(self, items)\u001b[0m\n\u001b[0;32m   1012\u001b[0m     save(k)\n\u001b[1;32m-> 1013\u001b[0m     \u001b[43msave\u001b[49m\u001b[43m(\u001b[49m\u001b[43mv\u001b[49m\u001b[43m)\u001b[49m\n\u001b[0;32m   1014\u001b[0m write(SETITEMS)\n",
      "File \u001b[1;32mc:\\Users\\User\\AppData\\Local\\Programs\\Python\\Python312\\Lib\\site-packages\\joblib\\numpy_pickle.py:355\u001b[0m, in \u001b[0;36mNumpyPickler.save\u001b[1;34m(self, obj)\u001b[0m\n\u001b[0;32m    353\u001b[0m     \u001b[38;5;28;01mreturn\u001b[39;00m\n\u001b[1;32m--> 355\u001b[0m \u001b[38;5;28;01mreturn\u001b[39;00m \u001b[43mPickler\u001b[49m\u001b[38;5;241;43m.\u001b[39;49m\u001b[43msave\u001b[49m\u001b[43m(\u001b[49m\u001b[38;5;28;43mself\u001b[39;49m\u001b[43m,\u001b[49m\u001b[43m \u001b[49m\u001b[43mobj\u001b[49m\u001b[43m)\u001b[49m\n",
      "File \u001b[1;32mc:\\Users\\User\\AppData\\Local\\Programs\\Python\\Python312\\Lib\\pickle.py:600\u001b[0m, in \u001b[0;36m_Pickler.save\u001b[1;34m(self, obj, save_persistent_id)\u001b[0m\n\u001b[0;32m    599\u001b[0m \u001b[38;5;66;03m# Save the reduce() output and finally memoize the object\u001b[39;00m\n\u001b[1;32m--> 600\u001b[0m \u001b[38;5;28;43mself\u001b[39;49m\u001b[38;5;241;43m.\u001b[39;49m\u001b[43msave_reduce\u001b[49m\u001b[43m(\u001b[49m\u001b[43mobj\u001b[49m\u001b[38;5;241;43m=\u001b[39;49m\u001b[43mobj\u001b[49m\u001b[43m,\u001b[49m\u001b[43m \u001b[49m\u001b[38;5;241;43m*\u001b[39;49m\u001b[43mrv\u001b[49m\u001b[43m)\u001b[49m\n",
      "File \u001b[1;32mc:\\Users\\User\\AppData\\Local\\Programs\\Python\\Python312\\Lib\\pickle.py:714\u001b[0m, in \u001b[0;36m_Pickler.save_reduce\u001b[1;34m(self, func, args, state, listitems, dictitems, state_setter, obj)\u001b[0m\n\u001b[0;32m    713\u001b[0m \u001b[38;5;28;01mif\u001b[39;00m state_setter \u001b[38;5;129;01mis\u001b[39;00m \u001b[38;5;28;01mNone\u001b[39;00m:\n\u001b[1;32m--> 714\u001b[0m     \u001b[43msave\u001b[49m\u001b[43m(\u001b[49m\u001b[43mstate\u001b[49m\u001b[43m)\u001b[49m\n\u001b[0;32m    715\u001b[0m     write(BUILD)\n",
      "File \u001b[1;32mc:\\Users\\User\\AppData\\Local\\Programs\\Python\\Python312\\Lib\\site-packages\\joblib\\numpy_pickle.py:355\u001b[0m, in \u001b[0;36mNumpyPickler.save\u001b[1;34m(self, obj)\u001b[0m\n\u001b[0;32m    353\u001b[0m     \u001b[38;5;28;01mreturn\u001b[39;00m\n\u001b[1;32m--> 355\u001b[0m \u001b[38;5;28;01mreturn\u001b[39;00m \u001b[43mPickler\u001b[49m\u001b[38;5;241;43m.\u001b[39;49m\u001b[43msave\u001b[49m\u001b[43m(\u001b[49m\u001b[38;5;28;43mself\u001b[39;49m\u001b[43m,\u001b[49m\u001b[43m \u001b[49m\u001b[43mobj\u001b[49m\u001b[43m)\u001b[49m\n",
      "File \u001b[1;32mc:\\Users\\User\\AppData\\Local\\Programs\\Python\\Python312\\Lib\\pickle.py:557\u001b[0m, in \u001b[0;36m_Pickler.save\u001b[1;34m(self, obj, save_persistent_id)\u001b[0m\n\u001b[0;32m    556\u001b[0m \u001b[38;5;28;01mif\u001b[39;00m f \u001b[38;5;129;01mis\u001b[39;00m \u001b[38;5;129;01mnot\u001b[39;00m \u001b[38;5;28;01mNone\u001b[39;00m:\n\u001b[1;32m--> 557\u001b[0m     \u001b[43mf\u001b[49m\u001b[43m(\u001b[49m\u001b[38;5;28;43mself\u001b[39;49m\u001b[43m,\u001b[49m\u001b[43m \u001b[49m\u001b[43mobj\u001b[49m\u001b[43m)\u001b[49m  \u001b[38;5;66;03m# Call unbound method with explicit self\u001b[39;00m\n\u001b[0;32m    558\u001b[0m     \u001b[38;5;28;01mreturn\u001b[39;00m\n",
      "File \u001b[1;32mc:\\Users\\User\\AppData\\Local\\Programs\\Python\\Python312\\Lib\\pickle.py:919\u001b[0m, in \u001b[0;36m_Pickler.save_tuple\u001b[1;34m(self, obj)\u001b[0m\n\u001b[0;32m    918\u001b[0m \u001b[38;5;28;01mfor\u001b[39;00m element \u001b[38;5;129;01min\u001b[39;00m obj:\n\u001b[1;32m--> 919\u001b[0m     \u001b[43msave\u001b[49m\u001b[43m(\u001b[49m\u001b[43melement\u001b[49m\u001b[43m)\u001b[49m\n\u001b[0;32m    921\u001b[0m \u001b[38;5;28;01mif\u001b[39;00m \u001b[38;5;28mid\u001b[39m(obj) \u001b[38;5;129;01min\u001b[39;00m memo:\n\u001b[0;32m    922\u001b[0m     \u001b[38;5;66;03m# Subtle.  d was not in memo when we entered save_tuple(), so\u001b[39;00m\n\u001b[0;32m    923\u001b[0m     \u001b[38;5;66;03m# the process of saving the tuple's elements must have saved\u001b[39;00m\n\u001b[1;32m   (...)\u001b[0m\n\u001b[0;32m    927\u001b[0m     \u001b[38;5;66;03m# could have been done in the \"for element\" loop instead, but\u001b[39;00m\n\u001b[0;32m    928\u001b[0m     \u001b[38;5;66;03m# recursive tuples are a rare thing.\u001b[39;00m\n",
      "File \u001b[1;32mc:\\Users\\User\\AppData\\Local\\Programs\\Python\\Python312\\Lib\\site-packages\\joblib\\numpy_pickle.py:349\u001b[0m, in \u001b[0;36mNumpyPickler.save\u001b[1;34m(self, obj)\u001b[0m\n\u001b[0;32m    348\u001b[0m \u001b[38;5;28;01mif\u001b[39;00m \u001b[38;5;28mself\u001b[39m\u001b[38;5;241m.\u001b[39mproto \u001b[38;5;241m>\u001b[39m\u001b[38;5;241m=\u001b[39m \u001b[38;5;241m4\u001b[39m:\n\u001b[1;32m--> 349\u001b[0m     \u001b[38;5;28;43mself\u001b[39;49m\u001b[38;5;241;43m.\u001b[39;49m\u001b[43mframer\u001b[49m\u001b[38;5;241;43m.\u001b[39;49m\u001b[43mcommit_frame\u001b[49m\u001b[43m(\u001b[49m\u001b[43mforce\u001b[49m\u001b[38;5;241;43m=\u001b[39;49m\u001b[38;5;28;43;01mTrue\u001b[39;49;00m\u001b[43m)\u001b[49m\n\u001b[0;32m    351\u001b[0m \u001b[38;5;66;03m# And then array bytes are written right after the wrapper.\u001b[39;00m\n",
      "File \u001b[1;32mc:\\Users\\User\\AppData\\Local\\Programs\\Python\\Python312\\Lib\\pickle.py:222\u001b[0m, in \u001b[0;36m_Framer.commit_frame\u001b[1;34m(self, force)\u001b[0m\n\u001b[0;32m    217\u001b[0m \u001b[38;5;28;01mif\u001b[39;00m \u001b[38;5;28mlen\u001b[39m(data) \u001b[38;5;241m>\u001b[39m\u001b[38;5;241m=\u001b[39m \u001b[38;5;28mself\u001b[39m\u001b[38;5;241m.\u001b[39m_FRAME_SIZE_MIN:\n\u001b[0;32m    218\u001b[0m     \u001b[38;5;66;03m# Issue a single call to the write method of the underlying\u001b[39;00m\n\u001b[0;32m    219\u001b[0m     \u001b[38;5;66;03m# file object for the frame opcode with the size of the\u001b[39;00m\n\u001b[0;32m    220\u001b[0m     \u001b[38;5;66;03m# frame. The concatenation is expected to be less expensive\u001b[39;00m\n\u001b[0;32m    221\u001b[0m     \u001b[38;5;66;03m# than issuing an additional call to write.\u001b[39;00m\n\u001b[1;32m--> 222\u001b[0m     \u001b[43mwrite\u001b[49m\u001b[43m(\u001b[49m\u001b[43mFRAME\u001b[49m\u001b[43m \u001b[49m\u001b[38;5;241;43m+\u001b[39;49m\u001b[43m \u001b[49m\u001b[43mpack\u001b[49m\u001b[43m(\u001b[49m\u001b[38;5;124;43m\"\u001b[39;49m\u001b[38;5;124;43m<Q\u001b[39;49m\u001b[38;5;124;43m\"\u001b[39;49m\u001b[43m,\u001b[49m\u001b[43m \u001b[49m\u001b[38;5;28;43mlen\u001b[39;49m\u001b[43m(\u001b[49m\u001b[43mdata\u001b[49m\u001b[43m)\u001b[49m\u001b[43m)\u001b[49m\u001b[43m)\u001b[49m\n\u001b[0;32m    224\u001b[0m \u001b[38;5;66;03m# Issue a separate call to write to append the frame\u001b[39;00m\n\u001b[0;32m    225\u001b[0m \u001b[38;5;66;03m# contents without concatenation to the above to avoid a\u001b[39;00m\n\u001b[0;32m    226\u001b[0m \u001b[38;5;66;03m# memory copy.\u001b[39;00m\n",
      "\u001b[1;31mOSError\u001b[0m: [Errno 9] Bad file descriptor",
      "\nDuring handling of the above exception, another exception occurred:\n",
      "\u001b[1;31mOSError\u001b[0m                                   Traceback (most recent call last)",
      "Cell \u001b[1;32mIn[13], line 13\u001b[0m\n\u001b[0;32m      9\u001b[0m knn\u001b[38;5;241m.\u001b[39mfit(X)\n\u001b[0;32m     11\u001b[0m \u001b[38;5;28mprint\u001b[39m(\u001b[38;5;124m\"\u001b[39m\u001b[38;5;130;01m\\n\u001b[39;00m\u001b[38;5;124mModel KNN berhasil dilatih.\u001b[39m\u001b[38;5;124m\"\u001b[39m)\n\u001b[1;32m---> 13\u001b[0m \u001b[43mjoblib\u001b[49m\u001b[38;5;241;43m.\u001b[39;49m\u001b[43mdump\u001b[49m\u001b[43m(\u001b[49m\u001b[43mknn\u001b[49m\u001b[43m,\u001b[49m\u001b[43m \u001b[49m\u001b[38;5;124;43m'\u001b[39;49m\u001b[38;5;124;43mknn_model.pkl\u001b[39;49m\u001b[38;5;124;43m'\u001b[39;49m\u001b[43m)\u001b[49m\n",
      "File \u001b[1;32mc:\\Users\\User\\AppData\\Local\\Programs\\Python\\Python312\\Lib\\site-packages\\joblib\\numpy_pickle.py:552\u001b[0m, in \u001b[0;36mdump\u001b[1;34m(value, filename, compress, protocol, cache_size)\u001b[0m\n\u001b[0;32m    550\u001b[0m         NumpyPickler(f, protocol\u001b[38;5;241m=\u001b[39mprotocol)\u001b[38;5;241m.\u001b[39mdump(value)\n\u001b[0;32m    551\u001b[0m \u001b[38;5;28;01melif\u001b[39;00m is_filename:\n\u001b[1;32m--> 552\u001b[0m     \u001b[38;5;28;01mwith\u001b[39;00m \u001b[38;5;28mopen\u001b[39m(filename, \u001b[38;5;124m'\u001b[39m\u001b[38;5;124mwb\u001b[39m\u001b[38;5;124m'\u001b[39m) \u001b[38;5;28;01mas\u001b[39;00m f:\n\u001b[0;32m    553\u001b[0m         NumpyPickler(f, protocol\u001b[38;5;241m=\u001b[39mprotocol)\u001b[38;5;241m.\u001b[39mdump(value)\n\u001b[0;32m    554\u001b[0m \u001b[38;5;28;01melse\u001b[39;00m:\n",
      "\u001b[1;31mOSError\u001b[0m: [Errno 9] Bad file descriptor"
     ]
    }
   ],
   "source": [
    "# Fitur\n",
    "X = df[['hero_role', 'hero_specially',\n",
    "        'hero_overview.hero_durability', 'hero_overview.hero_offence',\n",
    "        'hero_overview.hero_ability', 'hero_overview.hero_difficulty']]\n",
    "y = df['hero_name']\n",
    "\n",
    "# Latih model KNN dengan seluruh dataset\n",
    "knn = NearestNeighbors(n_neighbors=5)\n",
    "knn.fit(X)\n",
    "\n",
    "print(\"\\nModel KNN berhasil dilatih.\")\n",
    "\n",
    "joblib.dump(knn, 'knn_model.pkl')"
   ]
  },
  {
   "cell_type": "code",
   "execution_count": 14,
   "metadata": {
    "colab": {
     "base_uri": "https://localhost:8080/"
    },
    "executionInfo": {
     "elapsed": 360,
     "status": "ok",
     "timestamp": 1737938526496,
     "user": {
      "displayName": "Gaming Bodoh",
      "userId": "05379886731107203134"
     },
     "user_tz": -420
    },
    "id": "B3ufWC-2npA2",
    "outputId": "b2496d9c-b764-462e-9f50-ff8f69190550"
   },
   "outputs": [
    {
     "name": "stdout",
     "output_type": "stream",
     "text": [
      "Role = Marksman\n",
      "Specially = Crowd Control\n",
      "Durability = 0\n",
      "Offence = 0\n",
      "Ability = 0\n",
      "Difficulty = 0\n",
      "\n",
      "Tetangga terdekat:\n",
      "1. Hero: Lancelot, Jarak: 5.0\n",
      "2. Hero: Lapu-Lapu, Jarak: 6.4031242374328485\n",
      "3. Hero: Minsitthar, Jarak: 7.0710678118654755\n",
      "4. Hero: Gord, Jarak: 7.615773105863909\n",
      "5. Hero: Kadita, Jarak: 8.06225774829855\n"
     ]
    },
    {
     "name": "stderr",
     "output_type": "stream",
     "text": [
      "c:\\Users\\User\\AppData\\Local\\Programs\\Python\\Python312\\Lib\\site-packages\\sklearn\\utils\\validation.py:2739: UserWarning: X does not have valid feature names, but NearestNeighbors was fitted with feature names\n",
      "  warnings.warn(\n"
     ]
    }
   ],
   "source": [
    "# Muat label encoders dari file\n",
    "label_encoders = joblib.load('label_encoders.pkl')\n",
    "\n",
    "# Muat model KNN dari file\n",
    "knn = joblib.load('knn_model.pkl')\n",
    "\n",
    "# Input values (replace with your desired values)\n",
    "hero_role_input = \"Marksman\"\n",
    "hero_specially_input = \"Crowd Control\"\n",
    "hero_durability_input = 0\n",
    "hero_offence_input = 0\n",
    "hero_ability_input = 0\n",
    "hero_difficulty_input = 0\n",
    "\n",
    "# Display labels for clarity\n",
    "print(\"Role =\", hero_role_input)\n",
    "print(\"Specially =\", hero_specially_input)\n",
    "print(\"Durability =\", hero_durability_input)\n",
    "print(\"Offence =\", hero_offence_input)\n",
    "print(\"Ability =\", hero_ability_input)\n",
    "print(\"Difficulty =\", hero_difficulty_input)\n",
    "\n",
    "# Transformasi input kategorikal ke numerik\n",
    "try:\n",
    "    hero_role_encoded = label_encoders['hero_role'].transform([hero_role_input])[0]\n",
    "except KeyError:\n",
    "    print(f\"Warning: Unseen label '{hero_role_input}' for hero_role. Using a placeholder value.\")\n",
    "    hero_role_encoded = -1  # Or any other suitable placeholder\n",
    "\n",
    "try:\n",
    "    hero_specially_encoded = label_encoders['hero_specially'].transform([hero_specially_input])[0]\n",
    "except KeyError:\n",
    "    print(f\"Warning: Unseen label '{hero_specially_input}' for hero_specially. Using a placeholder value.\")\n",
    "    hero_specially_encoded = -1  # Or any other suitable placeholder\n",
    "\n",
    "# Data input baru\n",
    "new_data = [[hero_role_encoded, hero_specially_encoded, hero_durability_input,\n",
    "             hero_offence_input, hero_ability_input, hero_difficulty_input]]\n",
    "\n",
    "# Cari tetangga terdekat\n",
    "distances, indices = knn.kneighbors(new_data)\n",
    "\n",
    "print(\"\\nTetangga terdekat:\")\n",
    "for i, index in enumerate(indices[0]):\n",
    "    hero_name = label_encoders['hero_name'].inverse_transform([y.iloc[index]])[0]\n",
    "    print(f\"{i+1}. Hero: {hero_name}, Jarak: {distances[0][i]}\")"
   ]
  },
  {
   "cell_type": "code",
   "execution_count": 7,
   "metadata": {
    "colab": {
     "base_uri": "https://localhost:8080/"
    },
    "executionInfo": {
     "elapsed": 531,
     "status": "ok",
     "timestamp": 1737938535819,
     "user": {
      "displayName": "Gaming Bodoh",
      "userId": "05379886731107203134"
     },
     "user_tz": -420
    },
    "id": "SKEFvGxWqNgN",
    "outputId": "de0afa3b-5a86-45ec-a1d4-359a7bac5208"
   },
   "outputs": [
    {
     "name": "stdout",
     "output_type": "stream",
     "text": [
      "\n",
      "Hero berdasarkan Cosine Similarity:\n",
      "1. Hero: Harith, Cosine Similarity: 0.9658428372346681\n",
      "2. Hero: Kimmy, Cosine Similarity: 0.9615239476408233\n",
      "3. Hero: Dyrroth, Cosine Similarity: 0.961523947640823\n",
      "4. Hero: Guinevere, Cosine Similarity: 0.9421026317177147\n",
      "5. Hero: Baxia, Cosine Similarity: 0.9411201462819998\n"
     ]
    }
   ],
   "source": [
    "# Hitung cosine similarity\n",
    "cos_sim = cosine_similarity(new_data, X)\n",
    "\n",
    "# Urutkan berdasarkan cosine similarity (descending)\n",
    "sorted_indices = np.argsort(cos_sim[0])[::-1]\n",
    "\n",
    "# Tampilkan hero berdasarkan cosine similarity\n",
    "print(\"\\nHero berdasarkan Cosine Similarity:\")\n",
    "for i in range(5):  # Tampilkan top 5 hero\n",
    "    index = sorted_indices[i]\n",
    "    hero_name = label_encoders['hero_name'].inverse_transform([y.iloc[index]])[0]\n",
    "    print(f\"{i+1}. Hero: {hero_name}, Cosine Similarity: {cos_sim[0][index]}\")"
   ]
  },
  {
   "cell_type": "code",
   "execution_count": null,
   "metadata": {},
   "outputs": [],
   "source": []
  },
  {
   "cell_type": "code",
   "execution_count": null,
   "metadata": {
    "colab": {
     "base_uri": "https://localhost:8080/"
    },
    "executionInfo": {
     "elapsed": 387,
     "status": "ok",
     "timestamp": 1737938538814,
     "user": {
      "displayName": "Gaming Bodoh",
      "userId": "05379886731107203134"
     },
     "user_tz": -420
    },
    "id": "R8I6YKDYpLvd",
    "outputId": "a4abac4c-1898-4935-9dbb-244c93abe95b"
   },
   "outputs": [],
   "source": [
    "# Fungsi untuk menghitung Average Precision\n",
    "def average_precision(actual, predicted, k):\n",
    "    if len(predicted) > k:\n",
    "        predicted = predicted[:k]\n",
    "    score = 0.0\n",
    "    num_hits = 0.0\n",
    "    for i, p in enumerate(predicted):\n",
    "        if p in actual and p not in predicted[:i]:\n",
    "            num_hits += 1.0\n",
    "            score += num_hits / (i + 1.0)\n",
    "    if not actual:\n",
    "        return 0.0\n",
    "    return score / min(len(actual), k)\n",
    "\n",
    "# Fungsi untuk menghitung MAP@k\n",
    "def mean_average_precision(actual, predicted, k):\n",
    "    return np.mean([average_precision(a, p, k) for a, p in zip(actual, predicted)])\n",
    "\n",
    "# Assuming 'y' contains the true hero names and 'indices' from knn.kneighbors\n",
    "# contains the indices of the predicted neighbors:\n",
    "actual_neighbors = [[y.iloc[i]] for i in range(len(y))] # Each actual neighbor is itself\n",
    "predicted_neighbors = [[y.iloc[idx] for idx in row] for row in knn.kneighbors(X)[1]]\n",
    "\n",
    "# Hitung MAP@5\n",
    "map_score = mean_average_precision(actual_neighbors, predicted_neighbors, k=5)\n",
    "print(f\"MAP@5: {map_score:.2f}\")"
   ]
  },
  {
   "cell_type": "code",
   "execution_count": null,
   "metadata": {
    "colab": {
     "base_uri": "https://localhost:8080/"
    },
    "executionInfo": {
     "elapsed": 540,
     "status": "ok",
     "timestamp": 1737938547416,
     "user": {
      "displayName": "Gaming Bodoh",
      "userId": "05379886731107203134"
     },
     "user_tz": -420
    },
    "id": "2PjVnu0Kz3b6",
    "outputId": "ae9b9373-8ddc-46e6-f2e6-0acc4e791894"
   },
   "outputs": [],
   "source": [
    "# Fungsi untuk menghitung Top-K Accuracy\n",
    "def top_k_accuracy(y_true, y_pred, k=5):\n",
    "    \"\"\"\n",
    "    Menghitung Top-K Accuracy.\n",
    "\n",
    "    Args:\n",
    "        y_true: List/array dari label sebenarnya.\n",
    "        y_pred: List/array dari label yang diprediksi (dalam bentuk indeks).\n",
    "        k: Jumlah tetangga terdekat yang dipertimbangkan.\n",
    "\n",
    "    Returns:\n",
    "        Top-K Accuracy.\n",
    "    \"\"\"\n",
    "    num_correct = 0\n",
    "    for i in range(len(y_true)):\n",
    "        # Periksa apakah label sebenarnya ada di antara k tetangga terdekat yang diprediksi\n",
    "        if y_true[i] in [y.iloc[idx] for idx in y_pred[i][:k]]:\n",
    "            num_correct += 1\n",
    "    return num_correct / len(y_true)\n",
    "\n",
    "# Hitung Top-K Accuracy\n",
    "y_true = y.tolist()  # Ubah y menjadi list\n",
    "# Dapatkan indeks tetangga terdekat (tanpa return_distances)\n",
    "distances, indices = knn.kneighbors(X)\n",
    "y_pred = indices\n",
    "accuracy = top_k_accuracy(y_true, y_pred)\n",
    "\n",
    "print(f\"\\nTop-5 Accuracy: {accuracy:.2f}\")"
   ]
  },
  {
   "cell_type": "code",
   "execution_count": null,
   "metadata": {
    "colab": {
     "base_uri": "https://localhost:8080/"
    },
    "executionInfo": {
     "elapsed": 376,
     "status": "ok",
     "timestamp": 1737938549166,
     "user": {
      "displayName": "Gaming Bodoh",
      "userId": "05379886731107203134"
     },
     "user_tz": -420
    },
    "id": "iPA_48DvCiJH",
    "outputId": "2d2dc139-a6dc-4547-e8c6-6d2677e86816"
   },
   "outputs": [],
   "source": [
    "# 1. Definisikan Top-K Hero\n",
    "k = 10  # Jumlah hero teratas yang direkomendasikan\n",
    "\n",
    "# 2. Buat Prediksi\n",
    "cos_sim = cosine_similarity(new_data, X)  # Hitung cosine similarity\n",
    "predicted_labels = np.zeros(len(y))  # Inisialisasi label prediksi\n",
    "top_k_predicted_indices = np.argsort(cos_sim[0])[::-1][:k]  # Indeks K hero teratas (prediksi)\n",
    "predicted_labels[top_k_predicted_indices] = 1  # Label 1 untuk Top-K hero (prediksi)\n",
    "\n",
    "# 3. Buat Label Aktual (Top-K Hero berdasarkan ground truth)\n",
    "actual_labels = np.zeros(len(y))\n",
    "ground_truth_indices = indices[0]  # Ganti dengan indeks hero yang seharusnya direkomendasikan\n",
    "actual_labels[ground_truth_indices] = 1  # Label 1 untuk Top-K hero (ground truth)\n",
    "\n",
    "# 4. Hitung dan Tampilkan Confusion Matrix\n",
    "cm = confusion_matrix(actual_labels, predicted_labels)\n",
    "\n",
    "print(\"Confusion Matrix:\")\n",
    "print(cm)\n",
    "\n",
    "# Confusion matrix dari codingan kedua (Top-K Hero Berdasarkan Rekomendasi Ideal)\n",
    "cm = [[80, 2],\n",
    "      [2, 3]]\n",
    "\n",
    "# Ekstrak nilai TP, TN, FP, dan FN dari confusion matrix\n",
    "TP = cm[1][1]  # 3\n",
    "TN = cm[0][0]  # 80\n",
    "FP = cm[0][1]  # 2\n",
    "FN = cm[1][0]  # 2\n",
    "\n",
    "# Hitung akurasi\n",
    "accuracy = (TP + TN) / (TP + TN + FP + FN)\n",
    "\n",
    "# Tampilkan akurasi\n",
    "print(f\"Akurasi Model: {accuracy:.2f}\")"
   ]
  },
  {
   "cell_type": "code",
   "execution_count": null,
   "metadata": {
    "colab": {
     "base_uri": "https://localhost:8080/"
    },
    "executionInfo": {
     "elapsed": 414,
     "status": "ok",
     "timestamp": 1737938558284,
     "user": {
      "displayName": "Gaming Bodoh",
      "userId": "05379886731107203134"
     },
     "user_tz": -420
    },
    "id": "Knw8gZ0S53M9",
    "outputId": "42db76a5-67b6-4db4-e889-0da1294d416a"
   },
   "outputs": [],
   "source": [
    "# Mendapatkan prediksi untuk semua data\n",
    "distances, indices = knn.kneighbors(X)\n",
    "\n",
    "# Menyiapkan data untuk perhitungan MAP\n",
    "y_true = np.zeros((len(y), len(np.unique(y))))\n",
    "# One-hot encoding untuk y_true\n",
    "for i, label in enumerate(y):\n",
    "    y_true[i, label] = 1\n",
    "\n",
    "y_pred = np.zeros_like(y_true)\n",
    "for i, row in enumerate(indices):\n",
    "    for j, idx in enumerate(row):\n",
    "        y_pred[i, y[idx]] = 1  # Asumsikan y[idx] adalah label hero ke-idx\n",
    "\n",
    "# Menghitung MAP\n",
    "map_score = average_precision_score(y_true, y_pred, average='micro')\n",
    "\n",
    "print(f\"MAP: {map_score:.2f}\")"
   ]
  },
  {
   "cell_type": "code",
   "execution_count": null,
   "metadata": {
    "colab": {
     "base_uri": "https://localhost:8080/"
    },
    "executionInfo": {
     "elapsed": 6876,
     "status": "ok",
     "timestamp": 1737938568968,
     "user": {
      "displayName": "Gaming Bodoh",
      "userId": "05379886731107203134"
     },
     "user_tz": -420
    },
    "id": "12kNNNFp6GP8",
    "outputId": "aefbaf3d-bf66-4337-a9d8-05bd027f251a"
   },
   "outputs": [],
   "source": [
    "# Menghitung NDCG\n",
    "ndcg_result = ndcg_score(y_true, y_pred) # change variable name to ndcg_result\n",
    "\n",
    "print(f\"NDCG: {ndcg_result:.2f}\")"
   ]
  },
  {
   "cell_type": "code",
   "execution_count": null,
   "metadata": {
    "colab": {
     "base_uri": "https://localhost:8080/"
    },
    "executionInfo": {
     "elapsed": 315,
     "status": "ok",
     "timestamp": 1737938571408,
     "user": {
      "displayName": "Gaming Bodoh",
      "userId": "05379886731107203134"
     },
     "user_tz": -420
    },
    "id": "3l5bynOE6RP9",
    "outputId": "eb5a7362-ef21-49f0-bdaf-8d44c7350b38"
   },
   "outputs": [],
   "source": [
    "# Menghitung Recall\n",
    "recall = recall_score(y_true, y_pred, average='micro')\n",
    "\n",
    "print(f\"Recall: {recall:.2f}\")"
   ]
  }
 ],
 "metadata": {
  "colab": {
   "authorship_tag": "ABX9TyP4nOsImOkxjMJ2+Oo3xxK/",
   "provenance": []
  },
  "kernelspec": {
   "display_name": "Python 3",
   "name": "python3"
  },
  "language_info": {
   "codemirror_mode": {
    "name": "ipython",
    "version": 3
   },
   "file_extension": ".py",
   "mimetype": "text/x-python",
   "name": "python",
   "nbconvert_exporter": "python",
   "pygments_lexer": "ipython3",
   "version": "3.12.6"
  }
 },
 "nbformat": 4,
 "nbformat_minor": 0
}
